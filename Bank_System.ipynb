{
 "cells": [
  {
   "cell_type": "code",
   "execution_count": null,
   "metadata": {},
   "outputs": [],
   "source": [
    "\"\"\"\n",
    "Title    : Bank Application\n",
    "Author   : Akshay unde\n",
    "Date     : 1/1/2020\n",
    "\"\"\"\n",
    "import sys\n",
    "\n",
    "amount = 500\n",
    "def b_add():\n",
    "    global amount\n",
    "    num=int(input(\"Enter add amount = \"))\n",
    "    amount=int(amount)+num\n",
    "    print(\"Total balance = \",amount)\n",
    "    print(\"~~ aad amount sucessful ~~\\n\\n\")\n",
    "    \n",
    "def b_wid():\n",
    "    global amount\n",
    "    num=int(input(\"\\n\\nEnter widroll amount = \"))\n",
    "    amount=amount-num\n",
    "    print(\"Remaning Amount = \",amount,\"\\n\\n\")\n",
    "    print(\"~~ Widroll ammount Sucessful ~~\")\n",
    "\n",
    "\n",
    "def b_check():\n",
    "    global amount\n",
    "    print(\"Account Balance is =\", amount,\"\\n\\n\")\n",
    "\n",
    "def b_exit():\n",
    "    print(\"exit\")\n",
    "    sys.exit(0)\n",
    " \n",
    "x=input(\"YOU WANT CONTINIU PRESS 'y' or NOT PRESS ANY KEY = \")\n",
    "while(x==\"y\"):\n",
    "    print(\" press - 1 for Add Amaount in account\")\n",
    "    print(\" press - 2 for widroll Amaount in account\")\n",
    "    print(\" press - 3 for Check account Balance\")\n",
    "    print(\" press - 4 to exit\\n\\n\")\n",
    "    n = int(input(\"Press key = \"))\n",
    "    #b1= Bank()\n",
    "    if(1==n):\n",
    "        b_add()\n",
    "    if(2==n):\n",
    "        b_wid()\n",
    "    if(3==n):\n",
    "        b_check()\n",
    "    \n",
    "    if(4==n):\n",
    "        b_exit()\n",
    "        \n"
   ]
  },
  {
   "cell_type": "code",
   "execution_count": null,
   "metadata": {},
   "outputs": [],
   "source": [
    "\n",
    "\n",
    "    "
   ]
  },
  {
   "cell_type": "code",
   "execution_count": null,
   "metadata": {},
   "outputs": [],
   "source": []
  },
  {
   "cell_type": "raw",
   "metadata": {},
   "source": []
  }
 ],
 "metadata": {
  "kernelspec": {
   "display_name": "Python 3",
   "language": "python",
   "name": "python3"
  },
  "language_info": {
   "codemirror_mode": {
    "name": "ipython",
    "version": 3
   },
   "file_extension": ".py",
   "mimetype": "text/x-python",
   "name": "python",
   "nbconvert_exporter": "python",
   "pygments_lexer": "ipython3",
   "version": "3.7.1"
  }
 },
 "nbformat": 4,
 "nbformat_minor": 2
}

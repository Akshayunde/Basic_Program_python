{
 "cells": [
  {
   "cell_type": "code",
   "execution_count": 5,
   "metadata": {},
   "outputs": [
    {
     "name": "stdout",
     "output_type": "stream",
     "text": [
      "A is minimun number\n"
     ]
    }
   ],
   "source": [
    "\"\"\"\n",
    "Title  :  minimun number\n",
    "Author :  Akshay unde\n",
    "Date   :  24 Dec 2019\n",
    "\"\"\"\n",
    "a = 10\n",
    "b = 28\n",
    "if (a < b):\n",
    "    print(\"A is minimun number\")\n",
    "else:\n",
    "    print(\"B is mininum number\")"
   ]
  },
  {
   "cell_type": "code",
   "execution_count": 6,
   "metadata": {},
   "outputs": [
    {
     "name": "stdout",
     "output_type": "stream",
     "text": [
      "B is Maximum number\n"
     ]
    }
   ],
   "source": [
    "\"\"\"\n",
    "Title  : Maximum number\n",
    "Author :Akshay unde \n",
    "Date   : 24 Dec 2019\n",
    "\"\"\"\n",
    "if (a>b):\n",
    "    print(\"A is Maximun number\")\n",
    "else:\n",
    "    print(\"B is Maximum number\")"
   ]
  },
  {
   "cell_type": "code",
   "execution_count": 10,
   "metadata": {},
   "outputs": [
    {
     "name": "stdout",
     "output_type": "stream",
     "text": [
      "Factorial Of 5 is 120\n"
     ]
    }
   ],
   "source": [
    "\"\"\"\n",
    "Title  : Facrotial number using def function\n",
    "Author : Akshay unde\n",
    "Date   : 24 Dec 2019\n",
    "\"\"\"\n",
    "#def function\n",
    "def factorial(num):\n",
    "    return 1 if (num == 1 or num == 0 ) else num * factorial( num - 1);\n",
    "#main code\n",
    "number = 5\n",
    "\n",
    "print(\"Factorial Of\",number,\"is\",factorial(number))"
   ]
  },
  {
   "cell_type": "code",
   "execution_count": 11,
   "metadata": {},
   "outputs": [
    {
     "name": "stdout",
     "output_type": "stream",
     "text": [
      "Simple Interest is= 300.0\n"
     ]
    }
   ],
   "source": [
    "\"\"\"\n",
    "Title  : Simple Interest\n",
    "Author : Akshay Unde\n",
    "Date   : 24 Dec 2019\n",
    "\"\"\"\n",
    "\"\"\"\n",
    "Account data\n",
    "P =>Ammount\n",
    "R =>Rate\n",
    "T =>Time\n",
    "\"\"\"\n",
    "p = 10000\n",
    "r = 3\n",
    "t = 1\n",
    "# Calculate Simple Interest\n",
    "si=(p*r*t)/100\n",
    "\n",
    "print(\"Simple Interest is=\",si)"
   ]
  },
  {
   "cell_type": "code",
   "execution_count": 15,
   "metadata": {},
   "outputs": [
    {
     "name": "stdout",
     "output_type": "stream",
     "text": [
      "Compount Interest is 1324.8969638400001\n"
     ]
    }
   ],
   "source": [
    "\"\"\"\n",
    "Title  : Compound Interest using funtion\n",
    "Author : Akshay Unde\n",
    "Date   : 24 Dec 2019\n",
    "\"\"\"\n",
    "def compound_interest(amount, rate, time):\n",
    "    ci = amount * (pow((1+rate/100), time))\n",
    "    print(\"Compount Interest is\", ci)\n",
    "    \n",
    "#code\n",
    "compound_interest(1200, 2, 5)\n",
    "\n"
   ]
  },
  {
   "cell_type": "code",
   "execution_count": null,
   "metadata": {},
   "outputs": [],
   "source": [
    "\"\"\"\n",
    "Title   : check Aramstrong number using function\n",
    "Author  : Akshay unde\n",
    "Date    : 25 Dec 2019\n",
    "\"\"\"\n",
    "# calculate x raised to the power y\n",
    "def power(x ,y):\n",
    "    if y==0:\n",
    "        return 1\n",
    "    if y%2==0:\n",
    "        return power(x, y/2)*power(x, y/2)\n",
    "    return x*power(x, y/2)*power(x, y/2)\n",
    "\n",
    "# calculate order of the number\n",
    "def order(x):\n",
    "    num = 0\n",
    "    while (x!=0):\n",
    "        num = num+1\n",
    "        x = x/10\n",
    "    return num\n",
    "\n",
    "# code check armstrong or not\n",
    "def isarmstrong(x):\n",
    "    num = order(x)\n",
    "    temp = x\n",
    "    sum1 = 0\n",
    "    while (x!=0):\n",
    "        r = temp%10\n",
    "        sum1 = sum1+power(r, num)\n",
    "        temp = temp/10\n",
    "    return (sum1 == x)\n",
    "\n",
    "#main Code\n",
    "x = 153\n",
    "print(isarmstrong(x))"
   ]
  },
  {
   "cell_type": "code",
   "execution_count": null,
   "metadata": {},
   "outputs": [],
   "source": []
  },
  {
   "cell_type": "code",
   "execution_count": null,
   "metadata": {},
   "outputs": [],
   "source": []
  }
 ],
 "metadata": {
  "kernelspec": {
   "display_name": "Python 3",
   "language": "python",
   "name": "python3"
  },
  "language_info": {
   "codemirror_mode": {
    "name": "ipython",
    "version": 3
   },
   "file_extension": ".py",
   "mimetype": "text/x-python",
   "name": "python",
   "nbconvert_exporter": "python",
   "pygments_lexer": "ipython3",
   "version": "3.7.1"
  }
 },
 "nbformat": 4,
 "nbformat_minor": 2
}
